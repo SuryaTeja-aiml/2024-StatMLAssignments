{
  "nbformat": 4,
  "nbformat_minor": 0,
  "metadata": {
    "colab": {
      "provenance": [],
      "authorship_tag": "ABX9TyPMigX01acQhM2DUUuY/KBi",
      "include_colab_link": true
    },
    "kernelspec": {
      "name": "python3",
      "display_name": "Python 3"
    },
    "language_info": {
      "name": "python"
    }
  },
  "cells": [
    {
      "cell_type": "markdown",
      "metadata": {
        "id": "view-in-github",
        "colab_type": "text"
      },
      "source": [
        "<a href=\"https://colab.research.google.com/github/SuryaTeja-aiml/2024-StatMLAssignments/blob/main/2303A52007_StatMLAssignment2.ipynb\" target=\"_parent\"><img src=\"https://colab.research.google.com/assets/colab-badge.svg\" alt=\"Open In Colab\"/></a>"
      ]
    },
    {
      "cell_type": "markdown",
      "source": [
        "Question 1:\n",
        "\n",
        "Given the following dataset: X={1.3,1.5,2.6,2.6,3.2,3.9,4.2,3.7,3.10,3.0,11,6.7,1.9}. Compute the density of the data using a histogram with 5 bins."
      ],
      "metadata": {
        "id": "RFk24eUONSzZ"
      }
    },
    {
      "cell_type": "code",
      "source": [
        "import matplotlib.pyplot as plt\n",
        "import numpy as np\n",
        "X = [1.3, 1.5, 2.6, 2.6, 3.2, 3.9, 4.2, 3.7, 3.10, 3.0, 11, 6.7, 1.9]\n",
        "plt.hist(X, bins=5, density=True, alpha=1, color='purple', edgecolor='white')\n",
        "plt.grid(True)\n",
        "plt.xlabel('Value')\n",
        "plt.ylabel('Density')\n",
        "plt.title('Histogram')\n",
        "plt.show()"
      ],
      "metadata": {
        "colab": {
          "base_uri": "https://localhost:8080/",
          "height": 472
        },
        "id": "7v03EaGkQUxF",
        "outputId": "d4e975dc-f455-4173-b562-e909092f4856"
      },
      "execution_count": null,
      "outputs": [
        {
          "output_type": "display_data",
          "data": {
            "text/plain": [
              "<Figure size 640x480 with 1 Axes>"
            ],
            "image/png": "[encoded data removed]"
          },
          "metadata": {}
        }
      ]
    },
    {
      "cell_type": "markdown",
      "source": [
        "Question 2:\n",
        "Given the following data points:\n",
        "\n",
        "Dependent variables (x):\n",
        "12\n",
        ",\n",
        "13\n",
        ",\n",
        "56\n",
        ",\n",
        "23\n",
        ",\n",
        "41\n",
        ",\n",
        "28\n",
        ",\n",
        "51\n",
        "\n",
        "\n",
        "Independent variables (y):\n",
        "51\n",
        ",\n",
        "63\n",
        ",\n",
        "37\n",
        ",\n",
        "88\n",
        ",\n",
        "33\n",
        ",\n",
        "72\n",
        ",\n",
        "81\n",
        "\n",
        "Find Mean, Median, Mode , Variance , Standard deviation , Range , Interquartile Range (IQR),  Skewness ,Kurtosis of x and y ."
      ],
      "metadata": {
        "id": "wNQGZ3LcRMOM"
      }
    },
    {
      "cell_type": "code",
      "source": [
        "import numpy as np\n",
        "from scipy import stats\n",
        "\n",
        "x = np.array([12, 13, 56, 23, 41, 28, 51])\n",
        "y = np.array([51, 63, 37, 88, 33, 72, 81])\n",
        "\n",
        "mean_x = np.mean(x)\n",
        "mean_y = np.mean(y)\n",
        "\n",
        "median_x = np.median(x)\n",
        "median_y = np.median(y)\n",
        "\n",
        "mode_x_result = stats.mode(x, axis=None)\n",
        "mode_y_result = stats.mode(y, axis=None)\n",
        "\n",
        "mode_x = mode_x_result.mode\n",
        "mode_y = mode_y_result.mode\n",
        "\n",
        "variance_x = np.var(x, ddof=0)\n",
        "variance_y = np.var(y, ddof=0)\n",
        "\n",
        "std_dev_x = np.sqrt(variance_x)\n",
        "std_dev_y = np.sqrt(variance_y)\n",
        "\n",
        "range_x = np.max(x) - np.min(x)\n",
        "range_y = np.max(y) - np.min(y)\n",
        "\n",
        "iqr_x = stats.iqr(x)\n",
        "iqr_y = stats.iqr(y)\n",
        "\n",
        "skewness_x = stats.skew(x)\n",
        "skewness_y = stats.skew(y)\n",
        "\n",
        "kurtosis_x = stats.kurtosis(x)\n",
        "kurtosis_y = stats.kurtosis(y)\n",
        "\n",
        "print(\"Dependent Variables (x):\")\n",
        "print(f\"Mean: {mean_x}\")\n",
        "print(f\"Median: {median_x}\")\n",
        "print(f\"Mode: {mode_x}\")\n",
        "print(f\"Variance: {variance_x}\")\n",
        "print(f\"Standard Deviation: {std_dev_x}\")\n",
        "print(f\"Range: {range_x}\")\n",
        "print(f\"Interquartile Range (IQR): {iqr_x}\")\n",
        "print(f\"Skewness: {skewness_x}\")\n",
        "print(f\"Kurtosis: {kurtosis_x}\")\n",
        "\n",
        "print(\"\\nIndependent Variables (y):\")\n",
        "print(f\"Mean: {mean_y}\")\n",
        "print(f\"Median: {median_y}\")\n",
        "print(f\"Mode: {mode_y}\")\n",
        "print(f\"Variance: {variance_y}\")\n",
        "print(f\"Standard Deviation: {std_dev_y}\")\n",
        "print(f\"Range: {range_y}\")\n",
        "print(f\"Interquartile Range (IQR): {iqr_y}\")\n",
        "print(f\"Skewness: {skewness_y}\")\n",
        "print(f\"Kurtosis: {kurtosis_y}\")\n"
      ],
      "metadata": {
        "colab": {
          "base_uri": "https://localhost:8080/"
        },
        "id": "UBumimUWSGkB",
        "outputId": "1dfca34e-3533-411f-d177-c19a2291492a"
      },
      "execution_count": null,
      "outputs": [
        {
          "output_type": "stream",
          "name": "stdout",
          "text": [
            "Dependent Variables (x):\n",
            "Mean: 32.0\n",
            "Median: 28.0\n",
            "Mode: 12\n",
            "Variance: 268.0\n",
            "Standard Deviation: 16.3707055437449\n",
            "Range: 44\n",
            "Interquartile Range (IQR): 28.0\n",
            "Skewness: 0.18755223867066048\n",
            "Kurtosis: -1.47684021258314\n",
            "\n",
            "Independent Variables (y):\n",
            "Mean: 60.714285714285715\n",
            "Median: 63.0\n",
            "Mode: 33\n",
            "Variance: 387.6326530612245\n",
            "Standard Deviation: 19.68838878784205\n",
            "Range: 55\n",
            "Interquartile Range (IQR): 32.5\n",
            "Skewness: -0.10160487226954186\n",
            "Kurtosis: -1.4265295827972655\n"
          ]
        }
      ]
    },
    {
      "cell_type": "markdown",
      "source": [
        "Question 3:\n",
        "\n",
        "From the above data Find Mean, Median, Mode, Variance, Standard deviation, Range , Interquartile Range (IQR),  Skewness ,Kurtosis of each feature."
      ],
      "metadata": {
        "id": "XQgvf_wCiI3K"
      }
    },
    {
      "cell_type": "markdown",
      "source": [
        "MEAN"
      ],
      "metadata": {
        "id": "kkQ_dEmrjBCh"
      }
    },
    {
      "cell_type": "code",
      "source": [
        "import pandas as pd\n",
        "from scipy import stats\n",
        "import numpy as np\n",
        "\n",
        "data = pd.read_csv('/content/sample_data/housing.csv')\n",
        "\n",
        "for column in data.columns:\n",
        "    feature = data[column].dropna()  # Drop missing values if any\n",
        "\n",
        "    # Check if the column is numeric before calculating statistics\n",
        "    if np.issubdtype(feature.dtype, np.number):\n",
        "        mean = np.mean(feature)\n",
        "        median = np.median(feature)\n",
        "        mode_result = stats.mode(feature)\n",
        "        mode = mode_result.mode[0] if isinstance(mode_result.mode, np.ndarray) else mode_result.mode\n",
        "        mode_count = mode_result.count[0] if isinstance(mode_result.count, np.ndarray) else mode_result.count\n",
        "        variance = np.var(feature)\n",
        "        std_dev = np.std(feature)\n",
        "        range_value = np.ptp(feature)\n",
        "        iqr = stats.iqr(feature)\n",
        "        skewness = stats.skew(feature)\n",
        "        kurtosis = stats.kurtosis(feature)\n",
        "\n",
        "        print(f\"Statistics for {column}:\")\n",
        "        print(f\"Mean: {mean:.2f}\")\n",
        "        print(f\"Median: {median:.2f}\")\n",
        "        print(f\"Mode: {mode} (Count: {mode_count})\")\n",
        "        print(f\"Variance: {variance:.2f}\")\n",
        "        print(f\"Standard Deviation: {std_dev:.2f}\")\n",
        "        print(f\"Range: {range_value:.2f}\")\n",
        "        print(f\"IQR: {iqr:.2f}\")\n",
        "        print(f\"Skewness: {skewness:.2f}\")\n",
        "        print(f\"Kurtosis: {kurtosis:.2f}\")"
      ],
      "metadata": {
        "colab": {
          "base_uri": "https://localhost:8080/"
        },
        "id": "TyWpZWEPiyuK",
        "outputId": "e183df0c-441e-4353-8f28-3d1936ffed01"
      },
      "execution_count": 3,
      "outputs": [
        {
          "output_type": "stream",
          "name": "stdout",
          "text": [
            "Statistics for longitude:\n",
            "Mean: -119.57\n",
            "Median: -118.49\n",
            "Mode: -118.31 (Count: 162)\n",
            "Variance: 4.01\n",
            "Standard Deviation: 2.00\n",
            "Range: 10.04\n",
            "IQR: 3.79\n",
            "Skewness: -0.30\n",
            "Kurtosis: -1.33\n",
            "Statistics for latitude:\n",
            "Mean: 35.63\n",
            "Median: 34.26\n",
            "Mode: 34.06 (Count: 244)\n",
            "Variance: 4.56\n",
            "Standard Deviation: 2.14\n",
            "Range: 9.41\n",
            "IQR: 3.78\n",
            "Skewness: 0.47\n",
            "Kurtosis: -1.12\n",
            "Statistics for housing_median_age:\n",
            "Mean: 28.64\n",
            "Median: 29.00\n",
            "Mode: 52.0 (Count: 1273)\n",
            "Variance: 158.39\n",
            "Standard Deviation: 12.59\n",
            "Range: 51.00\n",
            "IQR: 19.00\n",
            "Skewness: 0.06\n",
            "Kurtosis: -0.80\n",
            "Statistics for total_rooms:\n",
            "Mean: 2635.76\n",
            "Median: 2127.00\n",
            "Mode: 1527.0 (Count: 18)\n",
            "Variance: 4759214.51\n",
            "Standard Deviation: 2181.56\n",
            "Range: 39318.00\n",
            "IQR: 1700.25\n",
            "Skewness: 4.15\n",
            "Kurtosis: 32.62\n",
            "Statistics for total_bedrooms:\n",
            "Mean: 537.87\n",
            "Median: 435.00\n",
            "Mode: 280.0 (Count: 55)\n",
            "Variance: 177556.69\n",
            "Standard Deviation: 421.37\n",
            "Range: 6444.00\n",
            "IQR: 351.00\n",
            "Skewness: 3.46\n",
            "Kurtosis: 21.98\n",
            "Statistics for population:\n",
            "Mean: 1425.48\n",
            "Median: 1166.00\n",
            "Mode: 891.0 (Count: 25)\n",
            "Variance: 1282408.32\n",
            "Standard Deviation: 1132.43\n",
            "Range: 35679.00\n",
            "IQR: 938.00\n",
            "Skewness: 4.94\n",
            "Kurtosis: 73.54\n",
            "Statistics for households:\n",
            "Mean: 499.54\n",
            "Median: 409.00\n",
            "Mode: 306.0 (Count: 57)\n",
            "Variance: 146168.96\n",
            "Standard Deviation: 382.32\n",
            "Range: 6081.00\n",
            "IQR: 325.00\n",
            "Skewness: 3.41\n",
            "Kurtosis: 22.05\n",
            "Statistics for median_income:\n",
            "Mean: 3.87\n",
            "Median: 3.53\n",
            "Mode: 3.125 (Count: 49)\n",
            "Variance: 3.61\n",
            "Standard Deviation: 1.90\n",
            "Range: 14.50\n",
            "IQR: 2.18\n",
            "Skewness: 1.65\n",
            "Kurtosis: 4.95\n",
            "Statistics for median_house_value:\n",
            "Mean: 206855.82\n",
            "Median: 179700.00\n",
            "Mode: 500001.0 (Count: 965)\n",
            "Variance: 13315503000.82\n",
            "Standard Deviation: 115392.82\n",
            "Range: 485002.00\n",
            "IQR: 145125.00\n",
            "Skewness: 0.98\n",
            "Kurtosis: 0.33\n"
          ]
        }
      ]
    }
  ]
}